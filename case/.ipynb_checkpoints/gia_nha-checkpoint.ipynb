{
 "cells": [
  {
   "cell_type": "code",
   "execution_count": 18,
   "id": "22a92a98",
   "metadata": {},
   "outputs": [],
   "source": [
    "from cgi import test\n",
    "from turtle import left\n",
    "import numpy as np\n",
    "import pandas as pd\n",
    "import matplotlib.pyplot as plt\n",
    "import seaborn as sns\n",
    "from sklearn.compose import ColumnTransformer\n",
    "from sklearn.preprocessing import OneHotEncoder"
   ]
  },
  {
   "cell_type": "code",
   "execution_count": 2,
   "id": "9d364e10",
   "metadata": {},
   "outputs": [],
   "source": [
    "train_data = pd.read_csv('data\\ApartmentTrading.csv')"
   ]
  },
  {
   "cell_type": "code",
   "execution_count": 3,
   "id": "d915947d",
   "metadata": {},
   "outputs": [
    {
     "data": {
      "text/html": [
       "<div>\n",
       "<style scoped>\n",
       "    .dataframe tbody tr th:only-of-type {\n",
       "        vertical-align: middle;\n",
       "    }\n",
       "\n",
       "    .dataframe tbody tr th {\n",
       "        vertical-align: top;\n",
       "    }\n",
       "\n",
       "    .dataframe thead th {\n",
       "        text-align: right;\n",
       "    }\n",
       "</style>\n",
       "<table border=\"1\" class=\"dataframe\">\n",
       "  <thead>\n",
       "    <tr style=\"text-align: right;\">\n",
       "      <th></th>\n",
       "      <th>Unnamed: 0</th>\n",
       "      <th>dien_tich</th>\n",
       "      <th>huong_ban_cong</th>\n",
       "      <th>phong_ngu</th>\n",
       "      <th>id_thanh_pho</th>\n",
       "      <th>ten_thanh_pho</th>\n",
       "      <th>id_quan</th>\n",
       "      <th>ten_quan</th>\n",
       "      <th>so_tang</th>\n",
       "      <th>mat_tien</th>\n",
       "      <th>...</th>\n",
       "      <th>gia</th>\n",
       "      <th>gia_m2</th>\n",
       "      <th>du_an</th>\n",
       "      <th>project_name</th>\n",
       "      <th>id_duong</th>\n",
       "      <th>ten_duong</th>\n",
       "      <th>do_rong_duong</th>\n",
       "      <th>do_rong_duong_ml</th>\n",
       "      <th>id_phuong</th>\n",
       "      <th>ten_phuong</th>\n",
       "    </tr>\n",
       "  </thead>\n",
       "  <tbody>\n",
       "    <tr>\n",
       "      <th>0</th>\n",
       "      <td>0</td>\n",
       "      <td>75.0</td>\n",
       "      <td>NaN</td>\n",
       "      <td>2.0</td>\n",
       "      <td>5e5501caeb80a7245175dddb</td>\n",
       "      <td>Thành phố Hà Nội</td>\n",
       "      <td>5e5501caeb80a7245175de1a</td>\n",
       "      <td>Quận Ba Đình</td>\n",
       "      <td>NaN</td>\n",
       "      <td>NaN</td>\n",
       "      <td>...</td>\n",
       "      <td>6300.0</td>\n",
       "      <td>84.000000</td>\n",
       "      <td>NaN</td>\n",
       "      <td>NaN</td>\n",
       "      <td>5e958ee8208d0d6d7648f9d1</td>\n",
       "      <td>Phố Ngọc Khánh</td>\n",
       "      <td>NaN</td>\n",
       "      <td>NaN</td>\n",
       "      <td>5e5501cbeb80a7245175e0eb</td>\n",
       "      <td>Phường Ngọc Khánh</td>\n",
       "    </tr>\n",
       "    <tr>\n",
       "      <th>1</th>\n",
       "      <td>1</td>\n",
       "      <td>115.0</td>\n",
       "      <td>Đông Nam</td>\n",
       "      <td>3.0</td>\n",
       "      <td>5e5501caeb80a7245175dddb</td>\n",
       "      <td>Thành phố Hà Nội</td>\n",
       "      <td>5e5501caeb80a7245175de1a</td>\n",
       "      <td>Quận Ba Đình</td>\n",
       "      <td>NaN</td>\n",
       "      <td>NaN</td>\n",
       "      <td>...</td>\n",
       "      <td>10250.0</td>\n",
       "      <td>89.130435</td>\n",
       "      <td>NaN</td>\n",
       "      <td>NaN</td>\n",
       "      <td>5e958ee8208d0d6d7648f9d1</td>\n",
       "      <td>Phố Ngọc Khánh</td>\n",
       "      <td>NaN</td>\n",
       "      <td>NaN</td>\n",
       "      <td>5e5501cbeb80a7245175e0eb</td>\n",
       "      <td>Phường Ngọc Khánh</td>\n",
       "    </tr>\n",
       "    <tr>\n",
       "      <th>2</th>\n",
       "      <td>2</td>\n",
       "      <td>100.0</td>\n",
       "      <td>NaN</td>\n",
       "      <td>2.0</td>\n",
       "      <td>5e5501caeb80a7245175dddb</td>\n",
       "      <td>Thành phố Hà Nội</td>\n",
       "      <td>5e5501caeb80a7245175de1a</td>\n",
       "      <td>Quận Ba Đình</td>\n",
       "      <td>1.0</td>\n",
       "      <td>NaN</td>\n",
       "      <td>...</td>\n",
       "      <td>2600.0</td>\n",
       "      <td>26.000000</td>\n",
       "      <td>NaN</td>\n",
       "      <td>NaN</td>\n",
       "      <td>5e958ee8208d0d6d7648f9da</td>\n",
       "      <td>Phố Thành Công Bắc</td>\n",
       "      <td>NaN</td>\n",
       "      <td>NaN</td>\n",
       "      <td>5e5501cbeb80a7245175e0ee</td>\n",
       "      <td>Phường Thành Công</td>\n",
       "    </tr>\n",
       "    <tr>\n",
       "      <th>3</th>\n",
       "      <td>3</td>\n",
       "      <td>30.0</td>\n",
       "      <td>NaN</td>\n",
       "      <td>2.0</td>\n",
       "      <td>5e5501caeb80a7245175dddb</td>\n",
       "      <td>Thành phố Hà Nội</td>\n",
       "      <td>5e5501caeb80a7245175de1a</td>\n",
       "      <td>Quận Ba Đình</td>\n",
       "      <td>2.0</td>\n",
       "      <td>NaN</td>\n",
       "      <td>...</td>\n",
       "      <td>3500.0</td>\n",
       "      <td>116.666667</td>\n",
       "      <td>NaN</td>\n",
       "      <td>NaN</td>\n",
       "      <td>NaN</td>\n",
       "      <td>NaN</td>\n",
       "      <td>NaN</td>\n",
       "      <td>NaN</td>\n",
       "      <td>NaN</td>\n",
       "      <td>NaN</td>\n",
       "    </tr>\n",
       "    <tr>\n",
       "      <th>4</th>\n",
       "      <td>4</td>\n",
       "      <td>72.0</td>\n",
       "      <td>NaN</td>\n",
       "      <td>2.0</td>\n",
       "      <td>5e5501caeb80a7245175dddb</td>\n",
       "      <td>Thành phố Hà Nội</td>\n",
       "      <td>5e5501caeb80a7245175de1a</td>\n",
       "      <td>Quận Ba Đình</td>\n",
       "      <td>3.0</td>\n",
       "      <td>NaN</td>\n",
       "      <td>...</td>\n",
       "      <td>1750.0</td>\n",
       "      <td>24.305556</td>\n",
       "      <td>NaN</td>\n",
       "      <td>NaN</td>\n",
       "      <td>5e958ee8208d0d6d7648f9bf</td>\n",
       "      <td>Phố Đặng Dung</td>\n",
       "      <td>NaN</td>\n",
       "      <td>NaN</td>\n",
       "      <td>5e5501cbeb80a7245175e0e7</td>\n",
       "      <td>Phường Quán Thánh</td>\n",
       "    </tr>\n",
       "  </tbody>\n",
       "</table>\n",
       "<p>5 rows × 25 columns</p>\n",
       "</div>"
      ],
      "text/plain": [
       "   Unnamed: 0  dien_tich huong_ban_cong  phong_ngu              id_thanh_pho  \\\n",
       "0           0       75.0            NaN        2.0  5e5501caeb80a7245175dddb   \n",
       "1           1      115.0       Đông Nam        3.0  5e5501caeb80a7245175dddb   \n",
       "2           2      100.0            NaN        2.0  5e5501caeb80a7245175dddb   \n",
       "3           3       30.0            NaN        2.0  5e5501caeb80a7245175dddb   \n",
       "4           4       72.0            NaN        2.0  5e5501caeb80a7245175dddb   \n",
       "\n",
       "      ten_thanh_pho                   id_quan      ten_quan  so_tang  \\\n",
       "0  Thành phố Hà Nội  5e5501caeb80a7245175de1a  Quận Ba Đình      NaN   \n",
       "1  Thành phố Hà Nội  5e5501caeb80a7245175de1a  Quận Ba Đình      NaN   \n",
       "2  Thành phố Hà Nội  5e5501caeb80a7245175de1a  Quận Ba Đình      1.0   \n",
       "3  Thành phố Hà Nội  5e5501caeb80a7245175de1a  Quận Ba Đình      2.0   \n",
       "4  Thành phố Hà Nội  5e5501caeb80a7245175de1a  Quận Ba Đình      3.0   \n",
       "\n",
       "   mat_tien  ...      gia      gia_m2 du_an  project_name  \\\n",
       "0       NaN  ...   6300.0   84.000000   NaN           NaN   \n",
       "1       NaN  ...  10250.0   89.130435   NaN           NaN   \n",
       "2       NaN  ...   2600.0   26.000000   NaN           NaN   \n",
       "3       NaN  ...   3500.0  116.666667   NaN           NaN   \n",
       "4       NaN  ...   1750.0   24.305556   NaN           NaN   \n",
       "\n",
       "                   id_duong           ten_duong  do_rong_duong  \\\n",
       "0  5e958ee8208d0d6d7648f9d1      Phố Ngọc Khánh            NaN   \n",
       "1  5e958ee8208d0d6d7648f9d1      Phố Ngọc Khánh            NaN   \n",
       "2  5e958ee8208d0d6d7648f9da  Phố Thành Công Bắc            NaN   \n",
       "3                       NaN                 NaN            NaN   \n",
       "4  5e958ee8208d0d6d7648f9bf       Phố Đặng Dung            NaN   \n",
       "\n",
       "  do_rong_duong_ml                 id_phuong         ten_phuong  \n",
       "0              NaN  5e5501cbeb80a7245175e0eb  Phường Ngọc Khánh  \n",
       "1              NaN  5e5501cbeb80a7245175e0eb  Phường Ngọc Khánh  \n",
       "2              NaN  5e5501cbeb80a7245175e0ee  Phường Thành Công  \n",
       "3              NaN                       NaN                NaN  \n",
       "4              NaN  5e5501cbeb80a7245175e0e7  Phường Quán Thánh  \n",
       "\n",
       "[5 rows x 25 columns]"
      ]
     },
     "execution_count": 3,
     "metadata": {},
     "output_type": "execute_result"
    }
   ],
   "source": [
    "train_data.head()"
   ]
  },
  {
   "cell_type": "markdown",
   "id": "cb7849ea",
   "metadata": {},
   "source": [
    "# lọc quận hoàng mai"
   ]
  },
  {
   "cell_type": "code",
   "execution_count": 4,
   "id": "0c3179c7",
   "metadata": {},
   "outputs": [
    {
     "data": {
      "text/plain": [
       "Index(['Unnamed: 0', 'dien_tich', 'huong_ban_cong', 'phong_ngu',\n",
       "       'id_thanh_pho', 'ten_thanh_pho', 'id_quan', 'ten_quan', 'so_tang',\n",
       "       'mat_tien', 'noi_that', 'huong_nha', 'so_do', 'lat', 'long', 'gia',\n",
       "       'gia_m2', 'du_an', 'project_name', 'id_duong', 'ten_duong',\n",
       "       'do_rong_duong', 'do_rong_duong_ml', 'id_phuong', 'ten_phuong'],\n",
       "      dtype='object')"
      ]
     },
     "execution_count": 4,
     "metadata": {},
     "output_type": "execute_result"
    }
   ],
   "source": [
    "train_data = train_data.loc[train_data['ten_quan']=='Quận Hoàng Mai'].reset_index(drop=True)\n",
    "# train_data = train_data.drop(['Unnamed: 0'],axis=1)\n",
    "train_data.columns\n"
   ]
  },
  {
   "cell_type": "markdown",
   "id": "56097a85",
   "metadata": {},
   "source": [
    "# bỏ đi những coulmns bị thiếu 20% dữ liệu"
   ]
  },
  {
   "cell_type": "code",
   "execution_count": 5,
   "id": "c6fab1df",
   "metadata": {},
   "outputs": [
    {
     "data": {
      "text/plain": [
       "Index(['Unnamed: 0', 'dien_tich', 'id_thanh_pho', 'ten_thanh_pho', 'id_quan',\n",
       "       'ten_quan', 'lat', 'long', 'gia', 'gia_m2', 'id_duong', 'ten_duong',\n",
       "       'id_phuong', 'ten_phuong'],\n",
       "      dtype='object')"
      ]
     },
     "execution_count": 5,
     "metadata": {},
     "output_type": "execute_result"
    }
   ],
   "source": [
    "null_rate = train_data.isnull().sum() / train_data.shape[0]\n",
    "a = null_rate[null_rate > 0.2]\n",
    "a.index\n",
    "train_data_test = train_data.drop(a.index,axis = 1)\n",
    "train_data_test.columns"
   ]
  },
  {
   "cell_type": "markdown",
   "id": "2b13d31e",
   "metadata": {},
   "source": [
    "# xoá những columns thừa,không ảnh hưởng đến dự đoán"
   ]
  },
  {
   "cell_type": "code",
   "execution_count": 6,
   "id": "80f407f9",
   "metadata": {},
   "outputs": [
    {
     "data": {
      "text/plain": [
       "Index(['dien_tich', 'ten_thanh_pho', 'ten_quan', 'lat', 'long', 'gia',\n",
       "       'gia_m2', 'ten_duong', 'ten_phuong'],\n",
       "      dtype='object')"
      ]
     },
     "execution_count": 6,
     "metadata": {},
     "output_type": "execute_result"
    }
   ],
   "source": [
    "train_data_test = train_data_test.drop(['id_duong','id_phuong','id_quan','id_thanh_pho','Unnamed: 0'],axis = 1)\n",
    "train_data_test.columns"
   ]
  },
  {
   "cell_type": "code",
   "execution_count": 7,
   "id": "42eba0b2",
   "metadata": {},
   "outputs": [
    {
     "data": {
      "text/plain": [
       "Index(['dien_tich', 'ten_thanh_pho', 'ten_quan', 'lat', 'long', 'gia_m2',\n",
       "       'ten_duong', 'ten_phuong'],\n",
       "      dtype='object')"
      ]
     },
     "execution_count": 7,
     "metadata": {},
     "output_type": "execute_result"
    }
   ],
   "source": [
    "\n",
    "train_data_test = train_data_test.dropna(subset=['gia'])\n",
    "Y = train_data_test['gia']\n",
    "train_data_test = train_data_test.drop('gia',axis= 1)\n",
    "train_data_test.columns"
   ]
  },
  {
   "cell_type": "markdown",
   "id": "bc22b4a0",
   "metadata": {},
   "source": [
    "# xử lý dữ liệu missing"
   ]
  },
  {
   "cell_type": "code",
   "execution_count": 8,
   "id": "ef34cd2f",
   "metadata": {},
   "outputs": [
    {
     "data": {
      "text/plain": [
       "Index(['dien_tich', 'ten_thanh_pho', 'ten_quan', 'lat', 'long', 'gia_m2',\n",
       "       'ten_duong', 'ten_phuong'],\n",
       "      dtype='object')"
      ]
     },
     "execution_count": 8,
     "metadata": {},
     "output_type": "execute_result"
    }
   ],
   "source": [
    "from sklearn.impute import SimpleImputer\n",
    "\n",
    "my_imputer = SimpleImputer(strategy = 'most_frequent', fill_value = None)\n",
    "X_T = pd.DataFrame(my_imputer.fit_transform(train_data_test))\n",
    "\n",
    "X_T.columns = train_data_test.columns\n",
    "X_T.columns"
   ]
  },
  {
   "cell_type": "markdown",
   "id": "53a0c9de",
   "metadata": {},
   "source": [
    "# onehot dữ liệu "
   ]
  },
  {
   "cell_type": "code",
   "execution_count": 10,
   "id": "a4767a05",
   "metadata": {},
   "outputs": [],
   "source": [
    "\n",
    "\n",
    "ct = ColumnTransformer(transformers=[('encoder', OneHotEncoder(), [1,2,6,7])] , remainder=\"passthrough\" )\n",
    "\n",
    "X = ct.fit_transform(X_T)\n"
   ]
  },
  {
   "cell_type": "markdown",
   "id": "37ecc3fb",
   "metadata": {},
   "source": [
    "# dự đoán giá"
   ]
  },
  {
   "cell_type": "code",
   "execution_count": 17,
   "id": "81804173",
   "metadata": {},
   "outputs": [
    {
     "data": {
      "text/html": [
       "<div>\n",
       "<style scoped>\n",
       "    .dataframe tbody tr th:only-of-type {\n",
       "        vertical-align: middle;\n",
       "    }\n",
       "\n",
       "    .dataframe tbody tr th {\n",
       "        vertical-align: top;\n",
       "    }\n",
       "\n",
       "    .dataframe thead th {\n",
       "        text-align: right;\n",
       "    }\n",
       "</style>\n",
       "<table border=\"1\" class=\"dataframe\">\n",
       "  <thead>\n",
       "    <tr style=\"text-align: right;\">\n",
       "      <th></th>\n",
       "      <th>gia_dung</th>\n",
       "      <th>gia_du_doan</th>\n",
       "    </tr>\n",
       "  </thead>\n",
       "  <tbody>\n",
       "    <tr>\n",
       "      <th>2722</th>\n",
       "      <td>2650.0</td>\n",
       "      <td>2700.0</td>\n",
       "    </tr>\n",
       "    <tr>\n",
       "      <th>1820</th>\n",
       "      <td>1400.0</td>\n",
       "      <td>1500.0</td>\n",
       "    </tr>\n",
       "    <tr>\n",
       "      <th>2702</th>\n",
       "      <td>850.0</td>\n",
       "      <td>900.0</td>\n",
       "    </tr>\n",
       "    <tr>\n",
       "      <th>2776</th>\n",
       "      <td>2500.0</td>\n",
       "      <td>2500.0</td>\n",
       "    </tr>\n",
       "    <tr>\n",
       "      <th>1297</th>\n",
       "      <td>1150.0</td>\n",
       "      <td>1150.0</td>\n",
       "    </tr>\n",
       "    <tr>\n",
       "      <th>1390</th>\n",
       "      <td>2650.0</td>\n",
       "      <td>2800.0</td>\n",
       "    </tr>\n",
       "    <tr>\n",
       "      <th>1134</th>\n",
       "      <td>1600.0</td>\n",
       "      <td>1600.0</td>\n",
       "    </tr>\n",
       "    <tr>\n",
       "      <th>204</th>\n",
       "      <td>2883.0</td>\n",
       "      <td>2945.0</td>\n",
       "    </tr>\n",
       "    <tr>\n",
       "      <th>2403</th>\n",
       "      <td>1870.0</td>\n",
       "      <td>1870.0</td>\n",
       "    </tr>\n",
       "    <tr>\n",
       "      <th>2036</th>\n",
       "      <td>2500.0</td>\n",
       "      <td>2420.0</td>\n",
       "    </tr>\n",
       "  </tbody>\n",
       "</table>\n",
       "</div>"
      ],
      "text/plain": [
       "      gia_dung  gia_du_doan\n",
       "2722    2650.0       2700.0\n",
       "1820    1400.0       1500.0\n",
       "2702     850.0        900.0\n",
       "2776    2500.0       2500.0\n",
       "1297    1150.0       1150.0\n",
       "1390    2650.0       2800.0\n",
       "1134    1600.0       1600.0\n",
       "204     2883.0       2945.0\n",
       "2403    1870.0       1870.0\n",
       "2036    2500.0       2420.0"
      ]
     },
     "execution_count": 17,
     "metadata": {},
     "output_type": "execute_result"
    }
   ],
   "source": [
    "#du doan\n",
    "\n",
    "from sklearn.model_selection import train_test_split\n",
    "\n",
    "x_train,x_valid,y_train,y_valid = train_test_split(X,Y,train_size=0.8,test_size=0.2,random_state=0)\n",
    "\n",
    "from sklearn.tree import DecisionTreeRegressor\n",
    "dt_model = DecisionTreeRegressor(random_state=1)\n",
    "\n",
    "dt_model.fit(x_train,y_train)\n",
    "y_preds = dt_model.predict(x_valid)\n",
    "pd.DataFrame({'gia_dung': y_valid.head(10),'gia_du_doan' : y_preds[:10]})"
   ]
  },
  {
   "cell_type": "code",
   "execution_count": null,
   "id": "98c724c1",
   "metadata": {},
   "outputs": [],
   "source": []
  }
 ],
 "metadata": {
  "kernelspec": {
   "display_name": "Python 3 (ipykernel)",
   "language": "python",
   "name": "python3"
  },
  "language_info": {
   "codemirror_mode": {
    "name": "ipython",
    "version": 3
   },
   "file_extension": ".py",
   "mimetype": "text/x-python",
   "name": "python",
   "nbconvert_exporter": "python",
   "pygments_lexer": "ipython3",
   "version": "3.9.12"
  }
 },
 "nbformat": 4,
 "nbformat_minor": 5
}
